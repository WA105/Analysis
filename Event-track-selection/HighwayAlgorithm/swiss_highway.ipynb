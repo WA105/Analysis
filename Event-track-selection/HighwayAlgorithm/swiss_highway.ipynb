{
 "cells": [
  {
   "cell_type": "code",
   "execution_count": null,
   "metadata": {},
   "outputs": [],
   "source": [
    "from swiss_highway_data_2018_jun_24_reco_functions import *\n",
    "\n",
    "#specify the runs here:\n",
    "run_list = [840, 842, 998]\n",
    "\n",
    "for run in run_list:\n",
    "    number_of_subruns = get_number_of_subruns(run=run)\n",
    "    for i in range(number_of_subruns):\n",
    "        initial_track_selection = select_tracks_based_on_length_position(run, max_number_of_tracks=10000000, min_track_length=20.0, subrun_selection_list=[i])\n",
    "        np.save('initial_track_selection/initial_track_selection_run' + str(run) + '_subrun' + str(i) + '.npy', initial_track_selection)\n",
    "        box_charge_ratios = get_box_charge_ratios_multiple_boxes(run, 'initial_track_selection/initial_track_selection_run' + str(run) + '_subrun' + str(i) + '.npy', small_rectangle_width=0.035, large_rectangle_width=0.1, number_of_boxes=1, min_box_length=50.0)\n",
    "        np.save('highway_output/box_charge_ratios_run' + str(run) + '_subrun' + str(i) + '.npy', box_charge_ratios)\n",
    "\n"
   ]
  }
 ],
 "metadata": {
  "kernelspec": {
   "display_name": "Python 2",
   "language": "python",
   "name": "python2"
  }
 },
 "nbformat": 4,
 "nbformat_minor": 2
}
